{
 "cells": [
  {
   "cell_type": "markdown",
   "metadata": {},
   "source": [
    "## 演習１の回答\n",
    "### (1) $XX|0\\rangle$ の回答"
   ]
  },
  {
   "cell_type": "code",
   "execution_count": 1,
   "metadata": {},
   "outputs": [],
   "source": [
    "# Qiskitライブラリーを導入\n",
    "from qiskit import *\n",
    "\n",
    "# 描画のためのライブラリーを導入\n",
    "import matplotlib.pyplot as plt\n",
    "%matplotlib inline"
   ]
  },
  {
   "cell_type": "code",
   "execution_count": 2,
   "metadata": {},
   "outputs": [
    {
     "data": {
      "text/plain": [
       "{'qiskit-terra': '0.12.0',\n",
       " 'qiskit-aer': '0.4.0',\n",
       " 'qiskit-ignis': '0.2.0',\n",
       " 'qiskit-ibmq-provider': '0.4.6',\n",
       " 'qiskit-aqua': '0.6.4',\n",
       " 'qiskit': '0.15.0'}"
      ]
     },
     "execution_count": 2,
     "metadata": {},
     "output_type": "execute_result"
    }
   ],
   "source": [
    "# Qiskitバージョンの確認\n",
    "qiskit.__qiskit_version__"
   ]
  },
  {
   "cell_type": "code",
   "execution_count": 3,
   "metadata": {},
   "outputs": [
    {
     "data": {
      "image/png": "[encoded data removed]",
      "text/plain": [
       "<Figure size 113.176x84.28 with 1 Axes>"
      ]
     },
     "execution_count": 3,
     "metadata": {},
     "output_type": "execute_result"
    }
   ],
   "source": [
    "# １量子ビット回路を定義\n",
    "q1 = QuantumCircuit(1)\n",
    "\n",
    "## 回路を描画\n",
    "q1.draw(output=\"mpl\")"
   ]
  },
  {
   "cell_type": "code",
   "execution_count": 4,
   "metadata": {},
   "outputs": [
    {
     "data": {
      "image/png": "[encoded data removed]",
      "text/plain": [
       "<Figure size 233.576x84.28 with 1 Axes>"
      ]
     },
     "execution_count": 4,
     "metadata": {},
     "output_type": "execute_result"
    }
   ],
   "source": [
    "# 量子ゲートで回路を作成\n",
    "q1.x(0)\n",
    "q1.x(0)\n",
    "\n",
    "## 回路を描画\n",
    "q1.draw(output=\"mpl\")"
   ]
  },
  {
   "cell_type": "code",
   "execution_count": 5,
   "metadata": {},
   "outputs": [
    {
     "name": "stdout",
     "output_type": "stream",
     "text": [
      "[1.+0.j 0.+0.j]\n"
     ]
    }
   ],
   "source": [
    "# 状態ベクトルシミュレーターの実行\n",
    "vector_sim = Aer.get_backend('statevector_simulator')\n",
    "job = execute(q1, vector_sim )\n",
    "result = job.result().get_statevector(q1, decimals=3)\n",
    "\n",
    "print(result)"
   ]
  },
  {
   "cell_type": "markdown",
   "metadata": {},
   "source": [
    "$XX|0\\rangle=  X\\begin{pmatrix}\n",
    "0 & 1 \\\\\\\n",
    "1 & 0\n",
    "\\end{pmatrix} \n",
    "\\begin{pmatrix}\n",
    "1 \\\\\\\n",
    "0\n",
    "\\end{pmatrix} \n",
    " =X\\begin{pmatrix}\n",
    "0 \\\\\\\n",
    "1\n",
    "\\end{pmatrix} \n",
    "=\n",
    "\\begin{pmatrix}\n",
    "0 & 1 \\\\\\\n",
    "1 & 0\n",
    "\\end{pmatrix} \n",
    "\\begin{pmatrix}\n",
    "0 \\\\\\\n",
    "1\n",
    "\\end{pmatrix} \n",
    "=\n",
    "\\begin{pmatrix}\n",
    "1 \\\\\\\n",
    "0\n",
    "\\end{pmatrix} \n",
    "=|0\\rangle$ \n",
    "\n",
    "\n",
    "同じ量子ゲートを２回繰り返して実行すると、もとの状態に戻ることがわかります。"
   ]
  },
  {
   "cell_type": "markdown",
   "metadata": {},
   "source": [
    "### (2) $H|0\\rangle$ の回答"
   ]
  },
  {
   "cell_type": "code",
   "execution_count": 6,
   "metadata": {},
   "outputs": [
    {
     "data": {
      "image/png": "[encoded data removed]",
      "text/plain": [
       "<Figure size 173.376x84.28 with 1 Axes>"
      ]
     },
     "execution_count": 6,
     "metadata": {},
     "output_type": "execute_result"
    }
   ],
   "source": [
    "# １量子ビット回路を定義\n",
    "q2 = QuantumCircuit(1)\n",
    "\n",
    "# 量子ゲートで回路を作成\n",
    "q2.h(0)\n",
    "\n",
    "# 回路を描画\n",
    "q2.draw(output=\"mpl\")"
   ]
  },
  {
   "cell_type": "code",
   "execution_count": 7,
   "metadata": {},
   "outputs": [
    {
     "name": "stdout",
     "output_type": "stream",
     "text": [
      "[0.707+0.j 0.707+0.j]\n"
     ]
    }
   ],
   "source": [
    "# 状態ベクトルシミュレーターの実行\n",
    "vector_sim = Aer.get_backend('statevector_simulator')\n",
    "job = execute(q2, vector_sim )\n",
    "result = job.result().get_statevector(q2, decimals=3)\n",
    "\n",
    "print(result)"
   ]
  },
  {
   "cell_type": "markdown",
   "metadata": {},
   "source": [
    "これは、$H|0\\rangle= \\frac{1}{\\sqrt{2}} \\begin{pmatrix}\n",
    "1 & 1 \\\\\\\n",
    "1 & -1\n",
    "\\end{pmatrix} \n",
    "\\begin{pmatrix}\n",
    "1 \\\\\\\n",
    "0\n",
    "\\end{pmatrix} \n",
    " =\\frac{1}{\\sqrt{2}}\\begin{pmatrix}\n",
    "1 \\\\\\\n",
    "1\n",
    "\\end{pmatrix} \n",
    "=\\begin{pmatrix}\n",
    "0.707 \\\\\\\n",
    "0.707\n",
    "\\end{pmatrix} \n",
    "=\\frac{1}{\\sqrt{2}}（|0\\rangle+|1\\rangle)$ です。\n",
    "\n",
    "\n",
    "\n",
    "\n",
    "つまり、$H$ゲートを$|0\\rangle$に実行すると、$|0\\rangle$と$|1\\rangle$の均等な重ね合わせ状態が作れることが分かります。この状態を$|+\\rangle$ とも書きます。\n",
    "\n",
    "$H|0\\rangle=\\frac{1}{\\sqrt{2}}（|0\\rangle+|1\\rangle)=|+\\rangle$\n",
    "\n",
    "次は、$H$ゲートを$|0\\rangle$に２回繰り返し実行します。"
   ]
  },
  {
   "cell_type": "markdown",
   "metadata": {},
   "source": [
    "### (3) $HH|0\\rangle$ の回答"
   ]
  },
  {
   "cell_type": "code",
   "execution_count": 8,
   "metadata": {},
   "outputs": [
    {
     "data": {
      "image/png": "[encoded data removed]",
      "text/plain": [
       "<Figure size 233.576x84.28 with 1 Axes>"
      ]
     },
     "execution_count": 8,
     "metadata": {},
     "output_type": "execute_result"
    }
   ],
   "source": [
    "# １量子ビット回路を定義\n",
    "q3 = QuantumCircuit(1)\n",
    "\n",
    "# 量子ゲートで回路を作成\n",
    "q3.h(0)\n",
    "q3.h(0)\n",
    "\n",
    "# 回路を描画\n",
    "q3.draw(output=\"mpl\")"
   ]
  },
  {
   "cell_type": "code",
   "execution_count": 9,
   "metadata": {},
   "outputs": [
    {
     "name": "stdout",
     "output_type": "stream",
     "text": [
      "[1.-0.j 0.+0.j]\n"
     ]
    }
   ],
   "source": [
    "# 状態ベクトルシミュレーターの実行\n",
    "vector_sim = Aer.get_backend('statevector_simulator')\n",
    "job = execute(q3, vector_sim )\n",
    "result = job.result().get_statevector(q3, decimals=3)\n",
    "\n",
    "print(result)"
   ]
  },
  {
   "cell_type": "markdown",
   "metadata": {},
   "source": [
    "同じ量子ゲートを２回繰り返して実行したので、もとの状態$|0\\rangle$に戻りました。\n",
    "\n",
    "次は、$|1\\rangle$ に$H$ゲートを実行します。"
   ]
  },
  {
   "cell_type": "markdown",
   "metadata": {},
   "source": [
    "### (4) $H|1\\rangle$の回答"
   ]
  },
  {
   "cell_type": "code",
   "execution_count": 10,
   "metadata": {},
   "outputs": [
    {
     "data": {
      "image/png": "[encoded data removed]",
      "text/plain": [
       "<Figure size 233.576x84.28 with 1 Axes>"
      ]
     },
     "execution_count": 10,
     "metadata": {},
     "output_type": "execute_result"
    }
   ],
   "source": [
    "# １量子ビット回路を定義\n",
    "q4 = QuantumCircuit(1)\n",
    "\n",
    "# 量子ゲートで回路を作成\n",
    "q4.x(0)\n",
    "q4.h(0)\n",
    "\n",
    "# 回路を描画\n",
    "q4.draw(output=\"mpl\")"
   ]
  },
  {
   "cell_type": "markdown",
   "metadata": {},
   "source": [
    "先に、$X|0\\rangle$で$|1\\rangle$を作った後、$H$を実行します。\n",
    "\n",
    "先ほどまでは、同じゲートを２回かけていたので気づかなかったかもしれませんが、量子回路の回路図は、左から順に実行されます。つまり、上の回路図の場合、まず初期値 $|0\\rangle$に$X$を実行したあと、$H$が実行されることが示されています。（行列表記の$H X |0\\rangle$とは逆になります。）"
   ]
  },
  {
   "cell_type": "code",
   "execution_count": 11,
   "metadata": {},
   "outputs": [
    {
     "name": "stdout",
     "output_type": "stream",
     "text": [
      "[ 0.707-0.j -0.707+0.j]\n"
     ]
    }
   ],
   "source": [
    "# 状態ベクトルシミュレーターの実行\n",
    "vector_sim = Aer.get_backend('statevector_simulator')\n",
    "job = execute(q4, vector_sim )\n",
    "result = job.result().get_statevector(q4, decimals=3)\n",
    "\n",
    "print(result)"
   ]
  },
  {
   "cell_type": "markdown",
   "metadata": {},
   "source": [
    "$H|1\\rangle= \\frac{1}{\\sqrt{2}} \\begin{pmatrix}\n",
    "1 & 1 \\\\\\\n",
    "1 & -1\n",
    "\\end{pmatrix} \n",
    "\\begin{pmatrix}\n",
    "0 \\\\\\\n",
    "1\n",
    "\\end{pmatrix} \n",
    " =\\frac{1}{\\sqrt{2}}\\begin{pmatrix}\n",
    "1 \\\\\\\n",
    "-1\n",
    "\\end{pmatrix} \n",
    "=\\begin{pmatrix}\n",
    "0.707 \\\\\\\n",
    "-0.707\n",
    "\\end{pmatrix} \n",
    "=\\frac{1}{\\sqrt{2}}（|0\\rangle-|1\\rangle)$\n",
    "\n",
    "\n",
    "$|1\\rangle$に$H$ゲートを実行した結果、$|0\\rangle$と$|1\\rangle$の均等な重ね合わせ状態になりますが、$|1\\rangle$の符号がマイナスになります。この状態を$|-\\rangle$ とも書きます。\n",
    "\n",
    "$H|1\\rangle=\\frac{1}{\\sqrt{2}}（|0\\rangle-|1\\rangle)=|-\\rangle$\n",
    "\n",
    "次は、$Z$ゲートを使います。"
   ]
  },
  {
   "cell_type": "markdown",
   "metadata": {},
   "source": [
    "### (5) $ZH|0\\rangle$ の回答"
   ]
  },
  {
   "cell_type": "code",
   "execution_count": 12,
   "metadata": {},
   "outputs": [
    {
     "data": {
      "image/png": "[encoded data removed]",
      "text/plain": [
       "<Figure size 233.576x84.28 with 1 Axes>"
      ]
     },
     "execution_count": 12,
     "metadata": {},
     "output_type": "execute_result"
    }
   ],
   "source": [
    "# １量子ビット回路を定義\n",
    "q5 = QuantumCircuit(1)\n",
    "\n",
    "# 量子ゲートで回路を作成\n",
    "q5.h(0)\n",
    "q5.z(0)\n",
    "\n",
    "# 回路を描画\n",
    "q5.draw(output=\"mpl\")"
   ]
  },
  {
   "cell_type": "code",
   "execution_count": 13,
   "metadata": {},
   "outputs": [
    {
     "name": "stdout",
     "output_type": "stream",
     "text": [
      "[ 0.707+0.j -0.707+0.j]\n"
     ]
    }
   ],
   "source": [
    "# 状態ベクトルシミュレーターの実行\n",
    "vector_sim = Aer.get_backend('statevector_simulator')\n",
    "job = execute(q5, vector_sim )\n",
    "result = job.result().get_statevector(q5, decimals=3)\n",
    "\n",
    "print(result)"
   ]
  },
  {
   "cell_type": "markdown",
   "metadata": {},
   "source": [
    "$ZH|0\\rangle= Z (\\frac{1}{\\sqrt{2}}（|0\\rangle+|1\\rangle))=\\frac{1}{\\sqrt{2}}\\begin{pmatrix}\n",
    "1 & 0 \\\\\\\n",
    "0 & -1\n",
    "\\end{pmatrix} \n",
    "\\begin{pmatrix}\n",
    "1 \\\\\\\n",
    "1\n",
    "\\end{pmatrix} \n",
    "=\\frac{1}{\\sqrt{2}}\\begin{pmatrix}\n",
    "1 \\\\\\\n",
    "-1\n",
    "\\end{pmatrix} =\\frac{1}{\\sqrt{2}}（|0\\rangle-|1\\rangle) =|-\\rangle$ \n",
    "\n",
    "つまり、\n",
    "$ZH|0\\rangle = Z|+\\rangle =|-\\rangle $\n",
    "\n",
    "となります。"
   ]
  },
  {
   "cell_type": "markdown",
   "metadata": {},
   "source": [
    "### (6) $ZH|1\\rangle$ の回答"
   ]
  },
  {
   "cell_type": "code",
   "execution_count": 14,
   "metadata": {},
   "outputs": [
    {
     "data": {
      "image/png": "[encoded data removed]",
      "text/plain": [
       "<Figure size 293.776x84.28 with 1 Axes>"
      ]
     },
     "execution_count": 14,
     "metadata": {},
     "output_type": "execute_result"
    }
   ],
   "source": [
    "# １量子ビット回路を定義\n",
    "q6 = QuantumCircuit(1)\n",
    "\n",
    "# 量子ゲートで回路を作成\n",
    "q6.x(0)\n",
    "q6.h(0)\n",
    "q6.z(0)\n",
    "\n",
    "# 回路を描画\n",
    "q6.draw(output=\"mpl\")"
   ]
  },
  {
   "cell_type": "code",
   "execution_count": 15,
   "metadata": {},
   "outputs": [
    {
     "name": "stdout",
     "output_type": "stream",
     "text": [
      "[0.707-0.j 0.707-0.j]\n"
     ]
    }
   ],
   "source": [
    "# 状態ベクトルシミュレーターの実行\n",
    "vector_sim = Aer.get_backend('statevector_simulator')\n",
    "job = execute(q6, vector_sim )\n",
    "result = job.result().get_statevector(q6, decimals=3)\n",
    "\n",
    "print(result)"
   ]
  },
  {
   "cell_type": "markdown",
   "metadata": {},
   "source": [
    "$ZH|1\\rangle= Z (\\frac{1}{\\sqrt{2}}（|0\\rangle-|1\\rangle))=\\frac{1}{\\sqrt{2}}\\begin{pmatrix}\n",
    "1 & 0 \\\\\\\n",
    "0 & -1\n",
    "\\end{pmatrix} \n",
    "\\begin{pmatrix}\n",
    "1 \\\\\\\n",
    "-1\n",
    "\\end{pmatrix} \n",
    "=\\frac{1}{\\sqrt{2}}\\begin{pmatrix}\n",
    "1 \\\\\\\n",
    "1\n",
    "\\end{pmatrix} =\\frac{1}{\\sqrt{2}}（|0\\rangle+|1\\rangle) =|+\\rangle$ \n",
    "\n",
    "つまり、\n",
    "$ZH|1\\rangle = Z|-\\rangle =|+\\rangle $\n",
    "\n",
    "となります。"
   ]
  },
  {
   "cell_type": "markdown",
   "metadata": {},
   "source": [
    "### まとめ\n",
    "$X$ゲートは$|0\\rangle$と$|1\\rangle$を交換します。\n",
    "\n",
    "$$X|0\\rangle=|1\\rangle$$\n",
    "\n",
    "$$X|1\\rangle=|0\\rangle$$\n",
    "\n",
    "$H$ゲートは$|0\\rangle$を$|+\\rangle$に、$|1\\rangle$を$|-\\rangle$に変換します。\n",
    "\n",
    "$$H|0\\rangle=|+\\rangle $$\n",
    "\n",
    "$$H|1\\rangle=|-\\rangle$$\n",
    "\n",
    "$Z$ゲートは$|+\\rangle$と$|-\\rangle$を交換します。\n",
    "\n",
    "$$Z|+\\rangle=|-\\rangle$$\n",
    "\n",
    "$$Z|-\\rangle=|+\\rangle$$\n",
    "\n",
    "ここで、\n",
    "\n",
    "$$|+\\rangle =\\frac{1}{\\sqrt{2}}（|0\\rangle+|1\\rangle) $$\n",
    "\n",
    "$$|-\\rangle =\\frac{1}{\\sqrt{2}}（|0\\rangle-|1\\rangle) $$\n",
    "\n",
    "です。\n"
   ]
  },
  {
   "cell_type": "code",
   "execution_count": null,
   "metadata": {},
   "outputs": [],
   "source": []
  }
 ],
 "metadata": {
  "kernelspec": {
   "display_name": "Environment (conda_qiskit015)",
   "language": "python",
   "name": "conda_qiskit015"
  },
  "language_info": {
   "codemirror_mode": {
    "name": "ipython",
    "version": 3
   },
   "file_extension": ".py",
   "mimetype": "text/x-python",
   "name": "python",
   "nbconvert_exporter": "python",
   "pygments_lexer": "ipython3",
   "version": "3.7.4"
  }
 },
 "nbformat": 4,
 "nbformat_minor": 2
}
