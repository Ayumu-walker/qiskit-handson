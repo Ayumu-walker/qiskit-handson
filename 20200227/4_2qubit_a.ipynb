{
 "cells": [
  {
   "cell_type": "markdown",
   "metadata": {},
   "source": [
    "# 2量子ビット回路と測定\n",
    "# 演習2の回答\n",
    "\n",
    "\n",
    "問題：\n",
    "\n",
    "次の回路をプログラミングし、状態ベクトルシミュレーターとQASMシミュレーターで実行し、QASMシミュレーターの結果はヒストグラムで表示してみましょう。\n",
    "\n",
    "(1) $X|0\\rangle \\otimes X|0\\rangle$\n",
    "\n",
    "(2) $H|1\\rangle \\otimes H|1\\rangle$\n"
   ]
  },
  {
   "cell_type": "code",
   "execution_count": 1,
   "metadata": {},
   "outputs": [],
   "source": [
    "# Qiskitライブラリーを導入\n",
    "from qiskit import *\n",
    "\n",
    "# 描画のためのライブラリーを導入\n",
    "import matplotlib.pyplot as plt\n",
    "%matplotlib inline"
   ]
  },
  {
   "cell_type": "code",
   "execution_count": 2,
   "metadata": {},
   "outputs": [
    {
     "data": {
      "text/plain": [
       "{'qiskit-terra': '0.12.0',\n",
       " 'qiskit-aer': '0.4.0',\n",
       " 'qiskit-ignis': '0.2.0',\n",
       " 'qiskit-ibmq-provider': '0.4.6',\n",
       " 'qiskit-aqua': '0.6.4',\n",
       " 'qiskit': '0.15.0'}"
      ]
     },
     "execution_count": 2,
     "metadata": {},
     "output_type": "execute_result"
    }
   ],
   "source": [
    "# Qiskitバージョンの確認\n",
    "qiskit.__qiskit_version__"
   ]
  },
  {
   "cell_type": "code",
   "execution_count": 3,
   "metadata": {},
   "outputs": [
    {
     "data": {
      "image/png": "[encoded data removed]",
      "text/plain": [
       "<Figure size 178.192x204.68 with 1 Axes>"
      ]
     },
     "execution_count": 3,
     "metadata": {},
     "output_type": "execute_result"
    }
   ],
   "source": [
    "# 2量子ビット回路を用意\n",
    "q1 = QuantumCircuit(2,2)    # ２量子ビット回路と２ビットの古典レジスターを用意します。\n",
    "\n",
    "# 回路を描画\n",
    "q1.draw(output=\"mpl\")"
   ]
  },
  {
   "cell_type": "markdown",
   "metadata": {},
   "source": [
    "### (1) $X|0\\rangle \\otimes X|0\\rangle$ の回答\n",
    "\n",
    "$X$ゲートをそれぞれの量子ビットに操作してみます。"
   ]
  },
  {
   "cell_type": "code",
   "execution_count": 4,
   "metadata": {},
   "outputs": [
    {
     "data": {
      "image/png": "[encoded data removed]",
      "text/plain": [
       "<Figure size 238.392x204.68 with 1 Axes>"
      ]
     },
     "execution_count": 4,
     "metadata": {},
     "output_type": "execute_result"
    }
   ],
   "source": [
    "# 量子ゲートで回路を作成\n",
    "q1.x(0)   # Xゲートを量子ビットq0に操作します。\n",
    "q1.x(1)   # Xゲートを量子ビットq1に操作します。\n",
    "\n",
    "# 回路を描画\n",
    "q1.draw(output=\"mpl\")"
   ]
  },
  {
   "cell_type": "markdown",
   "metadata": {},
   "source": [
    "状態ベクトルシミュレーターを使って実行してみます。"
   ]
  },
  {
   "cell_type": "code",
   "execution_count": 5,
   "metadata": {},
   "outputs": [
    {
     "name": "stdout",
     "output_type": "stream",
     "text": [
      "[0.+0.j 0.+0.j 0.+0.j 1.+0.j]\n"
     ]
    }
   ],
   "source": [
    "# 状態ベクトルシミュレーターの実行\n",
    "vector_sim = Aer.get_backend('statevector_simulator')\n",
    "job = execute(q1, vector_sim )\n",
    "result = job.result().get_statevector(q1, decimals=3)\n",
    "\n",
    "print(result)"
   ]
  },
  {
   "cell_type": "markdown",
   "metadata": {},
   "source": [
    "$X|0\\rangle \\otimes X|0\\rangle=|1\\rangle \\otimes |1\\rangle = |11\\rangle $\n",
    "\n",
    "測定回路を追加します。"
   ]
  },
  {
   "cell_type": "code",
   "execution_count": 20,
   "metadata": {},
   "outputs": [
    {
     "data": {
      "image/png": "[encoded data removed]",
      "text/plain": [
       "<Figure size 358.792x204.68 with 1 Axes>"
      ]
     },
     "execution_count": 20,
     "metadata": {},
     "output_type": "execute_result"
    }
   ],
   "source": [
    "# 回路を測定\n",
    "q1.measure(0,0)\n",
    "q1.measure(1,1)\n",
    "\n",
    "# 回路を描画\n",
    "q1.draw(output='mpl')"
   ]
  },
  {
   "cell_type": "code",
   "execution_count": 21,
   "metadata": {},
   "outputs": [
    {
     "name": "stdout",
     "output_type": "stream",
     "text": [
      "{'11': 1024}\n"
     ]
    },
    {
     "data": {
      "image/png": "[encoded data removed]",
      "text/plain": [
       "<Figure size 504x360 with 1 Axes>"
      ]
     },
     "execution_count": 21,
     "metadata": {},
     "output_type": "execute_result"
    }
   ],
   "source": [
    "# QASMシミュレーターで実験\n",
    "simulator = Aer.get_backend('qasm_simulator')\n",
    "job = execute(q1, backend=simulator, shots=1024)\n",
    "result = job.result()\n",
    "\n",
    "#  測定された回数を表示\n",
    "counts = result.get_counts(q1)\n",
    "print(counts)\n",
    "\n",
    "# ヒストグラムで測定された確率をプロット\n",
    "from qiskit.visualization import *\n",
    "plot_histogram( counts )"
   ]
  },
  {
   "cell_type": "markdown",
   "metadata": {},
   "source": [
    "$|11\\rangle$の状態が100%の確率で測定されました。"
   ]
  },
  {
   "cell_type": "markdown",
   "metadata": {},
   "source": [
    "### (2) $H|1\\rangle \\otimes H|1\\rangle$ の回答"
   ]
  },
  {
   "cell_type": "code",
   "execution_count": 22,
   "metadata": {},
   "outputs": [
    {
     "data": {
      "image/png": "[encoded data removed]",
      "text/plain": [
       "<Figure size 298.592x204.68 with 1 Axes>"
      ]
     },
     "execution_count": 22,
     "metadata": {},
     "output_type": "execute_result"
    }
   ],
   "source": [
    "# 2量子ビット回路を用意\n",
    "q2 = QuantumCircuit(2,2)    # ２量子ビット回路と２ビットの古典レジスターを用意します。\n",
    "\n",
    "# 量子ゲートで回路を作成\n",
    "q2.x(0)   # Xゲートを量子ビットq0に操作します。\n",
    "q2.h(0)   # Hゲートを量子ビットq0に操作します。\n",
    "q2.x(1)   # Xゲートを量子ビットq1に操作します。\n",
    "q2.h(1)   # Hゲートを量子ビットq1に操作します。\n",
    "\n",
    "# 回路を描画\n",
    "q2.draw(output=\"mpl\")"
   ]
  },
  {
   "cell_type": "code",
   "execution_count": 23,
   "metadata": {},
   "outputs": [
    {
     "name": "stdout",
     "output_type": "stream",
     "text": [
      "[ 0.5-0.j -0.5+0.j -0.5+0.j  0.5-0.j]\n"
     ]
    }
   ],
   "source": [
    "# 状態ベクトルシミュレーターの実行\n",
    "vector_sim = Aer.get_backend('statevector_simulator')\n",
    "job = execute(q2, vector_sim )\n",
    "result = job.result().get_statevector(q2, decimals=3)\n",
    "\n",
    "print(result)"
   ]
  },
  {
   "cell_type": "markdown",
   "metadata": {},
   "source": [
    "$H|1\\rangle \\otimes H|1\\rangle=\\frac{1}{\\sqrt{2}}(|0\\rangle-|1\\rangle) \\otimes \\frac{1}{\\sqrt{2}}(|0\\rangle-|1\\rangle) = \\frac{1}{2}(|00\\rangle-|01\\rangle-|10\\rangle+|11\\rangle)$\n",
    "\n",
    "なので、$(0.5, -0.5, -0.5,   0.5)$ が実行結果になります。\n",
    "\n",
    "測定回路を追加します。\n"
   ]
  },
  {
   "cell_type": "code",
   "execution_count": 24,
   "metadata": {},
   "outputs": [
    {
     "data": {
      "image/png": "[encoded data removed]",
      "text/plain": [
       "<Figure size 418.992x204.68 with 1 Axes>"
      ]
     },
     "execution_count": 24,
     "metadata": {},
     "output_type": "execute_result"
    }
   ],
   "source": [
    "# 回路を測定\n",
    "q2.measure(0,0)\n",
    "q2.measure(1,1)\n",
    "\n",
    "# 回路を描画\n",
    "q2.draw(output='mpl')"
   ]
  },
  {
   "cell_type": "code",
   "execution_count": 25,
   "metadata": {},
   "outputs": [
    {
     "name": "stdout",
     "output_type": "stream",
     "text": [
      "{'00': 239, '01': 244, '10': 276, '11': 265}\n"
     ]
    },
    {
     "data": {
      "image/png": "[encoded data removed]",
      "text/plain": [
       "<Figure size 504x360 with 1 Axes>"
      ]
     },
     "execution_count": 25,
     "metadata": {},
     "output_type": "execute_result"
    }
   ],
   "source": [
    "# QASMシミュレーターで実験\n",
    "simulator = Aer.get_backend('qasm_simulator')\n",
    "job = execute(q2, backend=simulator, shots=1024)\n",
    "result = job.result()\n",
    "\n",
    "##  測定された回数を表示\n",
    "counts = result.get_counts(q2)\n",
    "print(counts)\n",
    "\n",
    "## ヒストグラムで測定された確率をプロット\n",
    "from qiskit.visualization import *\n",
    "plot_histogram( counts )"
   ]
  },
  {
   "cell_type": "markdown",
   "metadata": {},
   "source": [
    "$|00\\rangle$、$|01\\rangle$、$|10\\rangle$、$|11\\rangle$の状態がほぼ25%ずつ均等に測定されました。"
   ]
  },
  {
   "cell_type": "code",
   "execution_count": null,
   "metadata": {},
   "outputs": [],
   "source": []
  }
 ],
 "metadata": {
  "kernelspec": {
   "display_name": "Environment (conda_qiskit015)",
   "language": "python",
   "name": "conda_qiskit015"
  },
  "language_info": {
   "codemirror_mode": {
    "name": "ipython",
    "version": 3
   },
   "file_extension": ".py",
   "mimetype": "text/x-python",
   "name": "python",
   "nbconvert_exporter": "python",
   "pygments_lexer": "ipython3",
   "version": "3.7.4"
  }
 },
 "nbformat": 4,
 "nbformat_minor": 2
}
