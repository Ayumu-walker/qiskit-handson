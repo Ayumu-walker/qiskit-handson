{
 "cells": [
  {
   "cell_type": "markdown",
   "metadata": {},
   "source": [
    "# 2量子ビット回路その２\n",
    "\n",
    "## 演習3の回答\n"
   ]
  },
  {
   "cell_type": "code",
   "execution_count": 1,
   "metadata": {},
   "outputs": [],
   "source": [
    "# Qiskitライブラリーを導入\n",
    "from qiskit import *\n",
    "\n",
    "# 描画のためのライブラリーを導入\n",
    "import matplotlib.pyplot as plt\n",
    "%matplotlib inline"
   ]
  },
  {
   "cell_type": "code",
   "execution_count": 2,
   "metadata": {},
   "outputs": [
    {
     "data": {
      "text/plain": [
       "{'qiskit-terra': '0.12.0',\n",
       " 'qiskit-aer': '0.4.0',\n",
       " 'qiskit-ignis': '0.2.0',\n",
       " 'qiskit-ibmq-provider': '0.4.6',\n",
       " 'qiskit-aqua': '0.6.4',\n",
       " 'qiskit': '0.15.0'}"
      ]
     },
     "execution_count": 2,
     "metadata": {},
     "output_type": "execute_result"
    }
   ],
   "source": [
    "# Qiskitバージョンの確認\n",
    "qiskit.__qiskit_version__"
   ]
  },
  {
   "cell_type": "code",
   "execution_count": 5,
   "metadata": {},
   "outputs": [
    {
     "data": {
      "image/png": "[encoded data removed]",
      "text/plain": [
       "<Figure size 178.192x144.48 with 1 Axes>"
      ]
     },
     "execution_count": 5,
     "metadata": {},
     "output_type": "execute_result"
    }
   ],
   "source": [
    "# 2量子ビット回路を用意\n",
    "q1 = QuantumCircuit(2)    \n",
    "\n",
    "# 回路を描画\n",
    "q1.draw(output=\"mpl\")"
   ]
  },
  {
   "cell_type": "markdown",
   "metadata": {},
   "source": [
    "### (1) $ CX_{01} |10\\rangle  = |10\\rangle $ の回答\n"
   ]
  },
  {
   "cell_type": "code",
   "execution_count": 6,
   "metadata": {},
   "outputs": [
    {
     "data": {
      "image/png": "[encoded data removed]",
      "text/plain": [
       "<Figure size 298.592x144.48 with 1 Axes>"
      ]
     },
     "execution_count": 6,
     "metadata": {},
     "output_type": "execute_result"
    }
   ],
   "source": [
    "# q0=0, q1=1の場合\n",
    "q1.x(1)    # q1を1にします。\n",
    "q1.cx(0,1)   # CNOTゲートの制御ゲートをq0、目標ゲートをq1にセットします。\n",
    "\n",
    "# 回路を描画\n",
    "q1.draw(output=\"mpl\")"
   ]
  },
  {
   "cell_type": "markdown",
   "metadata": {},
   "source": [
    "状態ベクトルシミュレーターを使って計算してみます。"
   ]
  },
  {
   "cell_type": "code",
   "execution_count": 7,
   "metadata": {},
   "outputs": [
    {
     "name": "stdout",
     "output_type": "stream",
     "text": [
      "[0.+0.j 0.+0.j 1.+0.j 0.+0.j]\n"
     ]
    }
   ],
   "source": [
    "## First, simulate the circuit\n",
    "## 状態ベクトルシミュレーターの実行\n",
    "vector_sim = Aer.get_backend('statevector_simulator')\n",
    "job = execute(q1, vector_sim )\n",
    "result = job.result().get_statevector(q1, decimals=3)\n",
    "\n",
    "print(result)"
   ]
  },
  {
   "cell_type": "markdown",
   "metadata": {},
   "source": [
    "$|10\\rangle$ に$CX$ゲートを操作しても$|10\\rangle$ のままです。\n",
    "\n",
    "$ CX_{01} |10\\rangle  = |10\\rangle $ \n",
    "\n",
    "\n",
    "### (2) $ CX_{01} |11\\rangle  = |01\\rangle $ の回答"
   ]
  },
  {
   "cell_type": "code",
   "execution_count": 10,
   "metadata": {},
   "outputs": [
    {
     "data": {
      "image/png": "[encoded data removed]",
      "text/plain": [
       "<Figure size 298.592x144.48 with 1 Axes>"
      ]
     },
     "execution_count": 10,
     "metadata": {},
     "output_type": "execute_result"
    }
   ],
   "source": [
    "# 2量子ビット回路を用意\n",
    "q2 = QuantumCircuit(2)    \n",
    "\n",
    "# q0=1, q1=1の場合\n",
    "q2.x(0)    # q0を1にします。\n",
    "q2.x(1)    # q1を1にします。\n",
    "q2.cx(0,1)   # CNOTゲートの制御ゲートをq0、目標ゲートをq1にセットします。\n",
    "\n",
    "# 回路を描画\n",
    "q2.draw(output=\"mpl\")"
   ]
  },
  {
   "cell_type": "code",
   "execution_count": 11,
   "metadata": {},
   "outputs": [
    {
     "name": "stdout",
     "output_type": "stream",
     "text": [
      "[0.+0.j 1.+0.j 0.+0.j 0.+0.j]\n"
     ]
    }
   ],
   "source": [
    "## First, simulate the circuit\n",
    "## 状態ベクトルシミュレーターの実行\n",
    "vector_sim = Aer.get_backend('statevector_simulator')\n",
    "job = execute(q2, vector_sim )\n",
    "result = job.result().get_statevector(q2, decimals=3)\n",
    "\n",
    "print(result)"
   ]
  },
  {
   "cell_type": "markdown",
   "metadata": {},
   "source": [
    "$|11\\rangle$ に$CX$ゲートを操作すると$|01\\rangle$ になりました。\n",
    "\n",
    "$ CX_{01} |11\\rangle  = |01\\rangle $\n"
   ]
  }
 ],
 "metadata": {
  "kernelspec": {
   "display_name": "Environment (conda_qiskit015)",
   "language": "python",
   "name": "conda_qiskit015"
  },
  "language_info": {
   "codemirror_mode": {
    "name": "ipython",
    "version": 3
   },
   "file_extension": ".py",
   "mimetype": "text/x-python",
   "name": "python",
   "nbconvert_exporter": "python",
   "pygments_lexer": "ipython3",
   "version": "3.7.4"
  }
 },
 "nbformat": 4,
 "nbformat_minor": 2
}
